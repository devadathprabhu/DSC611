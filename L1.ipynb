{
  "nbformat": 4,
  "nbformat_minor": 0,
  "metadata": {
    "colab": {
      "name": "ML1.ipynb",
      "provenance": [],
      "collapsed_sections": [],
      "authorship_tag": "ABX9TyPkj5m7qrlGwmQJ7P+obN0C",
      "include_colab_link": true
    },
    "kernelspec": {
      "name": "python3",
      "display_name": "Python 3"
    },
    "language_info": {
      "name": "python"
    }
  },
  "cells": [
    {
      "cell_type": "markdown",
      "metadata": {
        "id": "view-in-github",
        "colab_type": "text"
      },
      "source": [
        "<a href=\"https://colab.research.google.com/github/devadathprabhu/DSC611/blob/main/ML1.ipynb\" target=\"_parent\"><img src=\"https://colab.research.google.com/assets/colab-badge.svg\" alt=\"Open In Colab\"/></a>"
      ]
    },
    {
      "cell_type": "markdown",
      "metadata": {
        "id": "4hh0-Brk_qs8"
      },
      "source": [
        "\n",
        "1 Given 2 numpy arrays of same dimension, compute the element-wise sum of the arrays"
      ]
    },
    {
      "cell_type": "code",
      "metadata": {
        "colab": {
          "base_uri": "https://localhost:8080/"
        },
        "id": "9_BO8AQi40nV",
        "outputId": "f777d79d-ad95-41b8-9f8e-01bd789f3c8a"
      },
      "source": [
        "import numpy as np\n",
        "\n",
        "list1 = [1,2,3]\n",
        "array1 = np.array(list1)\n",
        "list2 = [10, 11, 12]\n",
        "array2 = np.array(list2)\n",
        "array1+array2"
      ],
      "execution_count": 2,
      "outputs": [
        {
          "output_type": "execute_result",
          "data": {
            "text/plain": [
              "array([11, 13, 15])"
            ]
          },
          "metadata": {
            "tags": []
          },
          "execution_count": 2
        }
      ]
    },
    {
      "cell_type": "markdown",
      "metadata": {
        "id": "33s7EvgM85k1"
      },
      "source": [
        "2 Compute the product of a scalar multiplied by a numpy array."
      ]
    },
    {
      "cell_type": "code",
      "metadata": {
        "id": "n15MV2Y-_-dd",
        "colab": {
          "base_uri": "https://localhost:8080/"
        },
        "outputId": "a608ff33-cc1a-416a-9326-8da90b028202"
      },
      "source": [
        "k = 10\n",
        "k*array1"
      ],
      "execution_count": 14,
      "outputs": [
        {
          "output_type": "execute_result",
          "data": {
            "text/plain": [
              "array([10, 20, 30])"
            ]
          },
          "metadata": {
            "tags": []
          },
          "execution_count": 14
        }
      ]
    },
    {
      "cell_type": "markdown",
      "metadata": {
        "id": "pWzDoXEIACD8"
      },
      "source": [
        "3 Create an identity matrix of dimension n"
      ]
    },
    {
      "cell_type": "code",
      "metadata": {
        "colab": {
          "base_uri": "https://localhost:8080/"
        },
        "id": "ytXFKViM83EU",
        "outputId": "a9043cd9-06a2-4b21-dacf-d83f85c2465e"
      },
      "source": [
        "np.eye(4)"
      ],
      "execution_count": 15,
      "outputs": [
        {
          "output_type": "execute_result",
          "data": {
            "text/plain": [
              "array([[1., 0., 0., 0.],\n",
              "       [0., 1., 0., 0.],\n",
              "       [0., 0., 1., 0.],\n",
              "       [0., 0., 0., 1.]])"
            ]
          },
          "metadata": {
            "tags": []
          },
          "execution_count": 15
        }
      ]
    },
    {
      "cell_type": "markdown",
      "metadata": {
        "id": "_pltN3iBAGsi"
      },
      "source": [
        "4 Transform a 3-D array to a 1-D array"
      ]
    },
    {
      "cell_type": "code",
      "metadata": {
        "colab": {
          "base_uri": "https://localhost:8080/"
        },
        "id": "Qbt38wiI9XvG",
        "outputId": "7307afa8-ac75-44ea-e2dc-00d434769ae4"
      },
      "source": [
        "array3D = np.array([[(1, 2, 3), (4, 5, 6)],[(1, 2, 3), (4, 5, 6)]])\n",
        "array3D\n",
        "array3D.shape\n",
        "array3D.reshape(-1)"
      ],
      "execution_count": 16,
      "outputs": [
        {
          "output_type": "execute_result",
          "data": {
            "text/plain": [
              "array([1, 2, 3, 4, 5, 6, 1, 2, 3, 4, 5, 6])"
            ]
          },
          "metadata": {
            "tags": []
          },
          "execution_count": 16
        }
      ]
    },
    {
      "cell_type": "markdown",
      "metadata": {
        "id": "lwIfF1MJBcfj"
      },
      "source": [
        "5 Convert the data type of all float elements to integer."
      ]
    },
    {
      "cell_type": "code",
      "metadata": {
        "colab": {
          "base_uri": "https://localhost:8080/"
        },
        "id": "Lj5sThQ99XMe",
        "outputId": "e1e873e4-fe57-469e-cb72-549c78e96576"
      },
      "source": [
        "floatarray = np.array([1.1, 2.5, 3, 4.0])\n",
        "floatarray\n",
        "intarray = floatarray.astype(int)\n",
        "intarray"
      ],
      "execution_count": 18,
      "outputs": [
        {
          "output_type": "execute_result",
          "data": {
            "text/plain": [
              "array([1, 2, 3, 4])"
            ]
          },
          "metadata": {
            "tags": []
          },
          "execution_count": 18
        }
      ]
    },
    {
      "cell_type": "markdown",
      "metadata": {
        "id": "iUcEcpjnCLRD"
      },
      "source": [
        "6 Print the reverse of a vector\n"
      ]
    },
    {
      "cell_type": "code",
      "metadata": {
        "colab": {
          "base_uri": "https://localhost:8080/"
        },
        "id": "E8VQ0UMuCMaA",
        "outputId": "23f0fb94-679a-46a3-ba93-9b60b319f874"
      },
      "source": [
        "intarray\n",
        "reversedarray = intarray[::-1]\n",
        "reversedarray"
      ],
      "execution_count": 19,
      "outputs": [
        {
          "output_type": "execute_result",
          "data": {
            "text/plain": [
              "array([4, 3, 2, 1])"
            ]
          },
          "metadata": {
            "tags": []
          },
          "execution_count": 19
        }
      ]
    },
    {
      "cell_type": "markdown",
      "metadata": {
        "id": "vHr1txWTC_ke"
      },
      "source": [
        "7 Initialize a vector\n",
        "i. with values ranging from 20 to 50\n",
        "ii. with random values and find the maximum and minimum values. Also\n",
        "compute the mean.\n",
        "iii. with random values between 20 and 50."
      ]
    },
    {
      "cell_type": "code",
      "metadata": {
        "colab": {
          "base_uri": "https://localhost:8080/"
        },
        "id": "Y7eVK-hQFAPX",
        "outputId": "2160f1ce-4797-4ddc-f30a-4c21a79469e7"
      },
      "source": [
        "arrayInRange = np.array([i for i in range(20,51)])\n",
        "arrayInRange"
      ],
      "execution_count": 20,
      "outputs": [
        {
          "output_type": "execute_result",
          "data": {
            "text/plain": [
              "array([20, 21, 22, 23, 24, 25, 26, 27, 28, 29, 30, 31, 32, 33, 34, 35, 36,\n",
              "       37, 38, 39, 40, 41, 42, 43, 44, 45, 46, 47, 48, 49, 50])"
            ]
          },
          "metadata": {
            "tags": []
          },
          "execution_count": 20
        }
      ]
    },
    {
      "cell_type": "code",
      "metadata": {
        "colab": {
          "base_uri": "https://localhost:8080/"
        },
        "id": "JIV4BlyKGMUd",
        "outputId": "ed83a6f1-0048-4086-9b97-5b9e00feec16"
      },
      "source": [
        "max = np.max(arrayInRange)\n",
        "max"
      ],
      "execution_count": 8,
      "outputs": [
        {
          "output_type": "execute_result",
          "data": {
            "text/plain": [
              "50"
            ]
          },
          "metadata": {
            "tags": []
          },
          "execution_count": 8
        }
      ]
    },
    {
      "cell_type": "code",
      "metadata": {
        "colab": {
          "base_uri": "https://localhost:8080/"
        },
        "id": "DkEku7qpGKuq",
        "outputId": "3295e403-ec78-4ba0-f921-cc303bca3fef"
      },
      "source": [
        "min = np.min(arrayInRange)\n",
        "min"
      ],
      "execution_count": 9,
      "outputs": [
        {
          "output_type": "execute_result",
          "data": {
            "text/plain": [
              "20"
            ]
          },
          "metadata": {
            "tags": []
          },
          "execution_count": 9
        }
      ]
    },
    {
      "cell_type": "code",
      "metadata": {
        "colab": {
          "base_uri": "https://localhost:8080/"
        },
        "id": "S3T39L1hGe6g",
        "outputId": "3c388a54-af0c-4e89-a47d-b81ebe93a2ca"
      },
      "source": [
        "mean = np.mean(arrayInRange)\n",
        "mean"
      ],
      "execution_count": 10,
      "outputs": [
        {
          "output_type": "execute_result",
          "data": {
            "text/plain": [
              "35.0"
            ]
          },
          "metadata": {
            "tags": []
          },
          "execution_count": 10
        }
      ]
    },
    {
      "cell_type": "code",
      "metadata": {
        "colab": {
          "base_uri": "https://localhost:8080/"
        },
        "id": "firHtI5FITNt",
        "outputId": "e4412ce8-fe3e-4c4d-cc30-12bc0168431d"
      },
      "source": [
        "randArr = np.random.randint(20, 50, size=(10))\n",
        "randArr"
      ],
      "execution_count": 50,
      "outputs": [
        {
          "output_type": "execute_result",
          "data": {
            "text/plain": [
              "array([46, 24, 40, 48, 26, 32, 21, 36, 40, 30])"
            ]
          },
          "metadata": {
            "tags": []
          },
          "execution_count": 50
        }
      ]
    },
    {
      "cell_type": "markdown",
      "metadata": {
        "id": "ctJUQv34DZDH"
      },
      "source": [
        "8 Create a numpy vector\n",
        "i. with 5 elements between 20 and 100 (evenly spaced) \n",
        "ii. with elements between 20 and 100 (evenly spaced with step of 5)"
      ]
    },
    {
      "cell_type": "code",
      "metadata": {
        "colab": {
          "base_uri": "https://localhost:8080/"
        },
        "id": "o-7DdgLTGrgl",
        "outputId": "34f433d2-4d68-40bc-dcaf-a7b9e31e1a38"
      },
      "source": [
        "arrayEvenSpaced = np.array(np.linspace(20, 100, 5))\n",
        "arrayEvenSpaced"
      ],
      "execution_count": 11,
      "outputs": [
        {
          "output_type": "execute_result",
          "data": {
            "text/plain": [
              "array([ 20.,  40.,  60.,  80., 100.])"
            ]
          },
          "metadata": {
            "tags": []
          },
          "execution_count": 11
        }
      ]
    },
    {
      "cell_type": "code",
      "metadata": {
        "colab": {
          "base_uri": "https://localhost:8080/"
        },
        "id": "SvJpa-74G6dt",
        "outputId": "751b757e-14d9-4322-fa5e-55490a56bc02"
      },
      "source": [
        "arrayEvenSpacedWithEle = np.array(np.arange(20,100,5))\n",
        "arrayEvenSpacedWithEle"
      ],
      "execution_count": 12,
      "outputs": [
        {
          "output_type": "execute_result",
          "data": {
            "text/plain": [
              "array([20, 25, 30, 35, 40, 45, 50, 55, 60, 65, 70, 75, 80, 85, 90, 95])"
            ]
          },
          "metadata": {
            "tags": []
          },
          "execution_count": 12
        }
      ]
    },
    {
      "cell_type": "markdown",
      "metadata": {
        "id": "44kWuxmlDs_o"
      },
      "source": [
        "9 Perform the following stacking operations on a numpy array:\n",
        "i. Horizontal stacking\n",
        "ii. Vertical stacking"
      ]
    },
    {
      "cell_type": "code",
      "metadata": {
        "colab": {
          "base_uri": "https://localhost:8080/"
        },
        "id": "Fx3Xkmr3DWNN",
        "outputId": "f6969640-06ce-494b-9a74-10849d9159fd"
      },
      "source": [
        "arrayHStack = np.hstack((intarray, reversedarray)) # should have same number of rows\n",
        "arrayHStack"
      ],
      "execution_count": 21,
      "outputs": [
        {
          "output_type": "execute_result",
          "data": {
            "text/plain": [
              "array([1, 2, 3, 4, 4, 3, 2, 1])"
            ]
          },
          "metadata": {
            "tags": []
          },
          "execution_count": 21
        }
      ]
    },
    {
      "cell_type": "code",
      "metadata": {
        "colab": {
          "base_uri": "https://localhost:8080/"
        },
        "id": "3YhQpi98EULf",
        "outputId": "d8ebc6a4-c8ed-4e74-c4df-2a76776db462"
      },
      "source": [
        "arrayVStack = np.vstack((intarray, reversedarray)) # should have same number of columns\n",
        "arrayVStack"
      ],
      "execution_count": 22,
      "outputs": [
        {
          "output_type": "execute_result",
          "data": {
            "text/plain": [
              "array([[1, 2, 3, 4],\n",
              "       [4, 3, 2, 1]])"
            ]
          },
          "metadata": {
            "tags": []
          },
          "execution_count": 22
        }
      ]
    },
    {
      "cell_type": "markdown",
      "metadata": {
        "id": "EipzBoM2EjZI"
      },
      "source": [
        "10 Compute the product of two 2D numpy arrays."
      ]
    },
    {
      "cell_type": "code",
      "metadata": {
        "colab": {
          "base_uri": "https://localhost:8080/"
        },
        "id": "xi8eShfBEmq9",
        "outputId": "ae44287c-db96-41cc-b181-df7507666d6e"
      },
      "source": [
        "arrayVStack @ np.eye(4)"
      ],
      "execution_count": 26,
      "outputs": [
        {
          "output_type": "execute_result",
          "data": {
            "text/plain": [
              "array([[1., 2., 3., 4.],\n",
              "       [4., 3., 2., 1.]])"
            ]
          },
          "metadata": {
            "tags": []
          },
          "execution_count": 26
        }
      ]
    },
    {
      "cell_type": "markdown",
      "metadata": {
        "id": "rxvwLoD6E5CF"
      },
      "source": [
        "11 Determine the transpose of a numpy array."
      ]
    },
    {
      "cell_type": "code",
      "metadata": {
        "colab": {
          "base_uri": "https://localhost:8080/"
        },
        "id": "p3ghFft3E4rv",
        "outputId": "ab421cb5-52e6-469a-887a-661d585c1cfe"
      },
      "source": [
        "arrayVStack.transpose()"
      ],
      "execution_count": null,
      "outputs": [
        {
          "output_type": "execute_result",
          "data": {
            "text/plain": [
              "array([[1, 4],\n",
              "       [2, 3],\n",
              "       [3, 2],\n",
              "       [4, 1]])"
            ]
          },
          "metadata": {
            "tags": []
          },
          "execution_count": 38
        }
      ]
    },
    {
      "cell_type": "markdown",
      "metadata": {
        "id": "ohIKDCgUE6yw"
      },
      "source": [
        "12 Display\n",
        "i. all odd elements from a numpy array.\n",
        "ii. indices of common elements in 2 arrays.."
      ]
    },
    {
      "cell_type": "code",
      "metadata": {
        "colab": {
          "base_uri": "https://localhost:8080/"
        },
        "id": "jb2WRo1pE7rV",
        "outputId": "74cf1fdd-80b4-498f-83b7-438fa8dff949"
      },
      "source": [
        "arrayVStack[arrayVStack%2==1]"
      ],
      "execution_count": null,
      "outputs": [
        {
          "output_type": "execute_result",
          "data": {
            "text/plain": [
              "array([1, 3, 3, 1])"
            ]
          },
          "metadata": {
            "tags": []
          },
          "execution_count": 40
        }
      ]
    },
    {
      "cell_type": "code",
      "metadata": {
        "colab": {
          "base_uri": "https://localhost:8080/"
        },
        "id": "M7B5JKroIMRr",
        "outputId": "3776da7f-72db-42d1-bea5-592b9214a7fc"
      },
      "source": [
        "array1 = np.array([1,2,3,4])\n",
        "array2 = np.array([2,4,6,8])\n",
        "np.nonzero(np.in1d(array1, array2))[0] # elements of a2 in a1"
      ],
      "execution_count": 52,
      "outputs": [
        {
          "output_type": "execute_result",
          "data": {
            "text/plain": [
              "array([1, 3])"
            ]
          },
          "metadata": {
            "tags": []
          },
          "execution_count": 52
        }
      ]
    },
    {
      "cell_type": "code",
      "metadata": {
        "colab": {
          "base_uri": "https://localhost:8080/"
        },
        "id": "GgnHUrzTLQAP",
        "outputId": "d3e57755-12e0-43c2-c205-71fd5dda54e0"
      },
      "source": [
        "np.intersect1d(array1, array2) # common elements in both"
      ],
      "execution_count": 53,
      "outputs": [
        {
          "output_type": "execute_result",
          "data": {
            "text/plain": [
              "array([2, 4])"
            ]
          },
          "metadata": {
            "tags": []
          },
          "execution_count": 53
        }
      ]
    }
  ]
}
