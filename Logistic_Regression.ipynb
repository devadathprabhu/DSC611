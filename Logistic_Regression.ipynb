{
  "nbformat": 4,
  "nbformat_minor": 0,
  "metadata": {
    "colab": {
      "name": "Logistic_Regression.ipynb",
      "provenance": [],
      "collapsed_sections": [],
      "authorship_tag": "ABX9TyNLU6K13A8Wlmr3uW1dThfj",
      "include_colab_link": true
    },
    "kernelspec": {
      "name": "python3",
      "display_name": "Python 3"
    },
    "language_info": {
      "name": "python"
    }
  },
  "cells": [
    {
      "cell_type": "markdown",
      "metadata": {
        "id": "view-in-github",
        "colab_type": "text"
      },
      "source": [
        "<a href=\"https://colab.research.google.com/github/devadathprabhu/DSC611/blob/main/Logistic_Regression.ipynb\" target=\"_parent\"><img src=\"https://colab.research.google.com/assets/colab-badge.svg\" alt=\"Open In Colab\"/></a>"
      ]
    },
    {
      "cell_type": "code",
      "metadata": {
        "id": "ErHKbWeN_qlm"
      },
      "source": [
        "from sklearn import datasets\n",
        "\n",
        "from sklearn.linear_model import LogisticRegression\n",
        "from sklearn.linear_model import SGDClassifier\n",
        "\n",
        "import pandas as pd\n",
        "import numpy as np"
      ],
      "execution_count": 1,
      "outputs": []
    },
    {
      "cell_type": "code",
      "metadata": {
        "colab": {
          "base_uri": "https://localhost:8080/"
        },
        "id": "QpZdO7QpAFQR",
        "outputId": "ce6ead22-c70b-42d2-b069-8618740382d4"
      },
      "source": [
        "iris = datasets.load_iris()\n",
        "print(iris.DESCR)\n",
        "print(iris.feature_names)"
      ],
      "execution_count": 3,
      "outputs": [
        {
          "output_type": "stream",
          "name": "stdout",
          "text": [
            ".. _iris_dataset:\n",
            "\n",
            "Iris plants dataset\n",
            "--------------------\n",
            "\n",
            "**Data Set Characteristics:**\n",
            "\n",
            "    :Number of Instances: 150 (50 in each of three classes)\n",
            "    :Number of Attributes: 4 numeric, predictive attributes and the class\n",
            "    :Attribute Information:\n",
            "        - sepal length in cm\n",
            "        - sepal width in cm\n",
            "        - petal length in cm\n",
            "        - petal width in cm\n",
            "        - class:\n",
            "                - Iris-Setosa\n",
            "                - Iris-Versicolour\n",
            "                - Iris-Virginica\n",
            "                \n",
            "    :Summary Statistics:\n",
            "\n",
            "    ============== ==== ==== ======= ===== ====================\n",
            "                    Min  Max   Mean    SD   Class Correlation\n",
            "    ============== ==== ==== ======= ===== ====================\n",
            "    sepal length:   4.3  7.9   5.84   0.83    0.7826\n",
            "    sepal width:    2.0  4.4   3.05   0.43   -0.4194\n",
            "    petal length:   1.0  6.9   3.76   1.76    0.9490  (high!)\n",
            "    petal width:    0.1  2.5   1.20   0.76    0.9565  (high!)\n",
            "    ============== ==== ==== ======= ===== ====================\n",
            "\n",
            "    :Missing Attribute Values: None\n",
            "    :Class Distribution: 33.3% for each of 3 classes.\n",
            "    :Creator: R.A. Fisher\n",
            "    :Donor: Michael Marshall (MARSHALL%PLU@io.arc.nasa.gov)\n",
            "    :Date: July, 1988\n",
            "\n",
            "The famous Iris database, first used by Sir R.A. Fisher. The dataset is taken\n",
            "from Fisher's paper. Note that it's the same as in R, but not as in the UCI\n",
            "Machine Learning Repository, which has two wrong data points.\n",
            "\n",
            "This is perhaps the best known database to be found in the\n",
            "pattern recognition literature.  Fisher's paper is a classic in the field and\n",
            "is referenced frequently to this day.  (See Duda & Hart, for example.)  The\n",
            "data set contains 3 classes of 50 instances each, where each class refers to a\n",
            "type of iris plant.  One class is linearly separable from the other 2; the\n",
            "latter are NOT linearly separable from each other.\n",
            "\n",
            ".. topic:: References\n",
            "\n",
            "   - Fisher, R.A. \"The use of multiple measurements in taxonomic problems\"\n",
            "     Annual Eugenics, 7, Part II, 179-188 (1936); also in \"Contributions to\n",
            "     Mathematical Statistics\" (John Wiley, NY, 1950).\n",
            "   - Duda, R.O., & Hart, P.E. (1973) Pattern Classification and Scene Analysis.\n",
            "     (Q327.D83) John Wiley & Sons.  ISBN 0-471-22361-1.  See page 218.\n",
            "   - Dasarathy, B.V. (1980) \"Nosing Around the Neighborhood: A New System\n",
            "     Structure and Classification Rule for Recognition in Partially Exposed\n",
            "     Environments\".  IEEE Transactions on Pattern Analysis and Machine\n",
            "     Intelligence, Vol. PAMI-2, No. 1, 67-71.\n",
            "   - Gates, G.W. (1972) \"The Reduced Nearest Neighbor Rule\".  IEEE Transactions\n",
            "     on Information Theory, May 1972, 431-433.\n",
            "   - See also: 1988 MLC Proceedings, 54-64.  Cheeseman et al\"s AUTOCLASS II\n",
            "     conceptual clustering system finds 3 classes in the data.\n",
            "   - Many, many more ...\n",
            "['sepal length (cm)', 'sepal width (cm)', 'petal length (cm)', 'petal width (cm)']\n"
          ]
        }
      ]
    },
    {
      "cell_type": "code",
      "metadata": {
        "colab": {
          "base_uri": "https://localhost:8080/"
        },
        "id": "1l4sXgudAW9K",
        "outputId": "58ace721-a4f3-49b1-ac76-c92c423913e3"
      },
      "source": [
        "iris.target_names"
      ],
      "execution_count": 4,
      "outputs": [
        {
          "output_type": "execute_result",
          "data": {
            "text/plain": [
              "array(['setosa', 'versicolor', 'virginica'], dtype='<U10')"
            ]
          },
          "metadata": {},
          "execution_count": 4
        }
      ]
    },
    {
      "cell_type": "code",
      "metadata": {
        "id": "Z-jDoBtzAcc7"
      },
      "source": [
        "X = iris[\"data\"]\n",
        "Y = iris[\"target\"]"
      ],
      "execution_count": 5,
      "outputs": []
    },
    {
      "cell_type": "code",
      "metadata": {
        "colab": {
          "base_uri": "https://localhost:8080/"
        },
        "id": "J3mM7UiuAmW8",
        "outputId": "939df596-fa5c-4b0f-bd4e-7551271edb9f"
      },
      "source": [
        "from sklearn.model_selection import train_test_split\n",
        "\n",
        "X_train, X_test, Y_train, Y_test = train_test_split(X,Y,train_size=0.8)\n",
        "\n",
        "log_clf = LogisticRegression(max_iter=1000)\n",
        "log_clf.fit(X_train, Y_train)"
      ],
      "execution_count": 8,
      "outputs": [
        {
          "output_type": "execute_result",
          "data": {
            "text/plain": [
              "LogisticRegression(max_iter=1000)"
            ]
          },
          "metadata": {},
          "execution_count": 8
        }
      ]
    },
    {
      "cell_type": "code",
      "metadata": {
        "colab": {
          "base_uri": "https://localhost:8080/"
        },
        "id": "wFIQCkCNB80T",
        "outputId": "0971287a-e367-4079-ff0b-c3f19f2db608"
      },
      "source": [
        "log_pred = log_clf.predict(X_test)\n",
        "log_pred"
      ],
      "execution_count": 9,
      "outputs": [
        {
          "output_type": "execute_result",
          "data": {
            "text/plain": [
              "array([2, 0, 2, 2, 2, 2, 1, 2, 0, 1, 0, 2, 2, 2, 2, 0, 1, 1, 2, 2, 0, 0,\n",
              "       2, 0, 0, 1, 1, 1, 0, 0])"
            ]
          },
          "metadata": {},
          "execution_count": 9
        }
      ]
    },
    {
      "cell_type": "code",
      "metadata": {
        "colab": {
          "base_uri": "https://localhost:8080/"
        },
        "id": "rO02Ey4_CF05",
        "outputId": "a586eeb2-de04-48d4-b510-0da1ceb78bb8"
      },
      "source": [
        "Y_test"
      ],
      "execution_count": 10,
      "outputs": [
        {
          "output_type": "execute_result",
          "data": {
            "text/plain": [
              "array([2, 0, 2, 2, 2, 2, 1, 2, 0, 1, 0, 2, 2, 2, 2, 0, 1, 1, 2, 2, 0, 0,\n",
              "       2, 0, 0, 1, 1, 1, 0, 0])"
            ]
          },
          "metadata": {},
          "execution_count": 10
        }
      ]
    },
    {
      "cell_type": "code",
      "metadata": {
        "colab": {
          "base_uri": "https://localhost:8080/"
        },
        "id": "YCxO7CcoCQFP",
        "outputId": "e0fcd537-9d37-4fd9-ec5b-6a9d12407bfb"
      },
      "source": [
        "sgd_clf = SGDClassifier(loss='log')\n",
        "sgd_clf.fit(X_train, Y_train)"
      ],
      "execution_count": 11,
      "outputs": [
        {
          "output_type": "execute_result",
          "data": {
            "text/plain": [
              "SGDClassifier(loss='log')"
            ]
          },
          "metadata": {},
          "execution_count": 11
        }
      ]
    },
    {
      "cell_type": "code",
      "metadata": {
        "colab": {
          "base_uri": "https://localhost:8080/"
        },
        "id": "lVLd5iPgCf0z",
        "outputId": "f44d3c9e-eaf9-4625-b69f-a3fd73f2f683"
      },
      "source": [
        "sgd_predict = sgd_clf.predict(X_test)\n",
        "sgd_predict"
      ],
      "execution_count": 14,
      "outputs": [
        {
          "output_type": "execute_result",
          "data": {
            "text/plain": [
              "array([1, 0, 2, 1, 1, 2, 1, 1, 0, 1, 0, 1, 1, 1, 1, 0, 1, 1, 1, 2, 0, 0,\n",
              "       1, 0, 0, 1, 1, 1, 0, 0])"
            ]
          },
          "metadata": {},
          "execution_count": 14
        }
      ]
    },
    {
      "cell_type": "code",
      "metadata": {
        "colab": {
          "base_uri": "https://localhost:8080/"
        },
        "id": "HpxDrZzJCw8O",
        "outputId": "a7edb28b-9672-4713-cd8c-8bced39b8923"
      },
      "source": [
        "probe = sgd_clf.predict_proba(X_test)\n",
        "probe"
      ],
      "execution_count": 15,
      "outputs": [
        {
          "output_type": "execute_result",
          "data": {
            "text/plain": [
              "array([[6.17080902e-061, 5.00000000e-001, 5.00000000e-001],\n",
              "       [1.00000000e+000, 4.32963658e-024, 4.58116619e-294],\n",
              "       [2.06973185e-044, 5.00000000e-001, 5.00000000e-001],\n",
              "       [2.59194822e-041, 5.00006712e-001, 4.99993288e-001],\n",
              "       [2.27177306e-042, 1.00000000e+000, 2.38341774e-012],\n",
              "       [1.00644533e-045, 5.00000000e-001, 5.00000000e-001],\n",
              "       [9.58263911e-028, 1.00000000e+000, 8.67401283e-085],\n",
              "       [2.26302399e-052, 5.00000000e-001, 5.00000000e-001],\n",
              "       [1.00000000e+000, 9.55075251e-053, 0.00000000e+000],\n",
              "       [2.41688706e-030, 1.00000000e+000, 5.27393031e-069],\n",
              "       [9.91766448e-001, 8.23355207e-003, 9.46388238e-297],\n",
              "       [5.77020614e-046, 5.00000000e-001, 5.00000000e-001],\n",
              "       [6.44065098e-055, 5.00000000e-001, 5.00000000e-001],\n",
              "       [1.30197490e-049, 5.00000000e-001, 5.00000000e-001],\n",
              "       [3.91682445e-050, 1.00000000e+000, 4.99419884e-021],\n",
              "       [1.00000000e+000, 1.90919574e-018, 0.00000000e+000],\n",
              "       [2.49569564e-030, 1.00000000e+000, 7.03755434e-090],\n",
              "       [4.90417721e-028, 1.00000000e+000, 2.79718354e-084],\n",
              "       [5.80089793e-044, 5.00000000e-001, 5.00000000e-001],\n",
              "       [4.18169844e-050, 5.00000000e-001, 5.00000000e-001],\n",
              "       [1.00000000e+000, 2.54634881e-053, 0.00000000e+000],\n",
              "       [1.00000000e+000, 2.64988153e-035, 1.81908355e-287],\n",
              "       [8.72553819e-045, 5.00000000e-001, 5.00000000e-001],\n",
              "       [1.00000000e+000, 2.22004728e-023, 0.00000000e+000],\n",
              "       [1.00000000e+000, 1.60633319e-036, 0.00000000e+000],\n",
              "       [5.64750436e-028, 1.00000000e+000, 3.85670564e-056],\n",
              "       [6.80558692e-030, 1.00000000e+000, 5.35761550e-061],\n",
              "       [2.63386750e-033, 1.00000000e+000, 5.05743873e-050],\n",
              "       [1.00000000e+000, 2.79929948e-010, 1.55195368e-281],\n",
              "       [1.00000000e+000, 3.63172856e-027, 7.79407680e-290]])"
            ]
          },
          "metadata": {},
          "execution_count": 15
        }
      ]
    },
    {
      "cell_type": "code",
      "metadata": {
        "colab": {
          "base_uri": "https://localhost:8080/"
        },
        "id": "IJBpNmRvDOjp",
        "outputId": "9eb05e13-ccd4-40eb-dfad-2e7d5f84939b"
      },
      "source": [
        "from sklearn.metrics import confusion_matrix\n",
        "\n",
        "conf_log = confusion_matrix(Y_test, log_pred)\n",
        "conf_sgd = confusion_matrix(Y_test, sgd_predict)\n",
        "\n",
        "print(\"Confusion matrix for Logistic Model\")\n",
        "print(conf_log)\n",
        "\n",
        "print(\"Confusion matrix for LogSGDistic Model\")\n",
        "print(conf_sgd)"
      ],
      "execution_count": 16,
      "outputs": [
        {
          "output_type": "stream",
          "name": "stdout",
          "text": [
            "Confusion matrix for Logistic Model\n",
            "[[10  0  0]\n",
            " [ 0  7  0]\n",
            " [ 0  0 13]]\n",
            "Confusion matrix for LogSGDistic Model\n",
            "[[10  0  0]\n",
            " [ 0  7  0]\n",
            " [ 0 10  3]]\n"
          ]
        }
      ]
    },
    {
      "cell_type": "code",
      "metadata": {
        "colab": {
          "base_uri": "https://localhost:8080/"
        },
        "id": "wWrKFDYfD7Ke",
        "outputId": "a1a89c71-b792-4522-d31a-5a66f8a58536"
      },
      "source": [
        "from sklearn.metrics import accuracy_score\n",
        "\n",
        "accuracy_score(Y_test, log_pred)"
      ],
      "execution_count": 17,
      "outputs": [
        {
          "output_type": "execute_result",
          "data": {
            "text/plain": [
              "1.0"
            ]
          },
          "metadata": {},
          "execution_count": 17
        }
      ]
    },
    {
      "cell_type": "code",
      "metadata": {
        "colab": {
          "base_uri": "https://localhost:8080/"
        },
        "id": "VPDGmgQKEE9h",
        "outputId": "32e78f59-c0f1-45d0-90c9-07818b652ff5"
      },
      "source": [
        "accuracy_score(Y_test, sgd_predict)"
      ],
      "execution_count": 18,
      "outputs": [
        {
          "output_type": "execute_result",
          "data": {
            "text/plain": [
              "0.6666666666666666"
            ]
          },
          "metadata": {},
          "execution_count": 18
        }
      ]
    }
  ]
}