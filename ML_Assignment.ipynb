{
  "nbformat": 4,
  "nbformat_minor": 0,
  "metadata": {
    "colab": {
      "name": "ML_Assignment.ipynb",
      "provenance": [],
      "collapsed_sections": [],
      "authorship_tag": "ABX9TyPoRcFROtkOSxrKHuUxuc6c",
      "include_colab_link": true
    },
    "kernelspec": {
      "name": "python3",
      "display_name": "Python 3"
    },
    "language_info": {
      "name": "python"
    }
  },
  "cells": [
    {
      "cell_type": "markdown",
      "metadata": {
        "id": "view-in-github",
        "colab_type": "text"
      },
      "source": [
        "<a href=\"https://colab.research.google.com/github/devadathprabhu/DSC611/blob/main/ML_Assignment.ipynb\" target=\"_parent\"><img src=\"https://colab.research.google.com/assets/colab-badge.svg\" alt=\"Open In Colab\"/></a>"
      ]
    },
    {
      "cell_type": "code",
      "metadata": {
        "id": "kCdIXnTQQdDL"
      },
      "source": [
        "import warnings\n",
        "warnings.filterwarnings(\"ignore\")"
      ],
      "execution_count": 101,
      "outputs": []
    },
    {
      "cell_type": "code",
      "metadata": {
        "colab": {
          "base_uri": "https://localhost:8080/"
        },
        "id": "t77ELID3clM-",
        "outputId": "306b46a0-9d84-403c-a170-ffb9cb9343e8"
      },
      "source": [
        "# Mounting the drive\n",
        "from google.colab import drive\n",
        "drive.mount('/content/gdrive')"
      ],
      "execution_count": 102,
      "outputs": [
        {
          "output_type": "stream",
          "name": "stdout",
          "text": [
            "Drive already mounted at /content/gdrive; to attempt to forcibly remount, call drive.mount(\"/content/gdrive\", force_remount=True).\n"
          ]
        }
      ]
    },
    {
      "cell_type": "code",
      "metadata": {
        "id": "U34b8vJFdEzi"
      },
      "source": [
        "import os\n",
        "os.environ['KAGGLE_CONFIG_DIR'] = \"/content/gdrive/MyDrive/Kaggle\""
      ],
      "execution_count": 103,
      "outputs": []
    },
    {
      "cell_type": "code",
      "metadata": {
        "colab": {
          "base_uri": "https://localhost:8080/"
        },
        "id": "JNwUx5THdRjT",
        "outputId": "03df0c84-8826-43f0-9e81-7421d7f5a4b4"
      },
      "source": [
        "%cd /content/gdrive/MyDrive/Kaggle"
      ],
      "execution_count": 104,
      "outputs": [
        {
          "output_type": "stream",
          "name": "stdout",
          "text": [
            "/content/gdrive/MyDrive/Kaggle\n"
          ]
        }
      ]
    },
    {
      "cell_type": "code",
      "metadata": {
        "id": "gKNzo8R1eAZ6"
      },
      "source": [
        "import pandas as pd\n",
        "import numpy as np\n",
        "\n",
        "# Reading the train.csv\n",
        "train_pd = pd.read_csv('/content/gdrive/MyDrive/Kaggle/train.csv')\n",
        "\n",
        "# Preprocessing starts ----\n",
        "# Remove attributes that are not features\n",
        "train_pd.drop(columns=['Name','Ticket','PassengerId'], inplace=True)\n",
        "\n",
        "## Calculate entries in training data with missing data\n",
        "pd.DataFrame({'No. NaN': train_pd.isna().sum(), '%': train_pd.isna().sum() / len(train_pd)})\n",
        "\n",
        "#Preprocessing - I - Drop 'Cabin' and 'Embarked' feature\n",
        "train_pd.drop(columns=['Cabin','Embarked'], inplace=True)\n",
        "\n",
        "#Preprocessing - II - Pandas has a interpolate() function that will replace all the missing NaNs to interpolated values.\n",
        "train_pd['Age'] = train_pd['Age'].interpolate()\n",
        "\n",
        "#Preprocessing - III - Fill missing values with median\n",
        "train_pd['Fare'].fillna(train_pd['Fare'].median(),inplace=True)\n",
        "\n",
        "## Encoding Pclass and Sex attributes\n",
        "train_dummies = []\n",
        "\n",
        "cols = ['Pclass', 'Sex']\n",
        "for col in cols:\n",
        "    train_dummies.append(pd.get_dummies(train_pd[col]))\n",
        "titanic_train_dummies = pd.concat(train_dummies, axis=1)\n",
        "\n",
        "train_pd = pd.concat((train_pd,titanic_train_dummies), axis=1)\n",
        "train_pd = train_pd.drop(['Pclass', 'Sex'], axis=1)\n",
        "train_pd['FamilySize'] = train_pd['SibSp'] + train_pd['Parch'] + 1\n",
        "train_pd = train_pd.drop(['SibSp', 'Parch'], axis=1)\n",
        "\n",
        "y = train_pd['Survived']\n",
        "x = train_pd.drop('Survived', axis=1)\n",
        "\n",
        "# Preprocessing ends ----"
      ],
      "execution_count": 105,
      "outputs": []
    },
    {
      "cell_type": "code",
      "metadata": {
        "id": "-jdWm3QBgK4A"
      },
      "source": [
        "# Splitting the train.csv to training, testing and validation data\n",
        "from sklearn.model_selection import train_test_split\n",
        "x_train, x_val, y_train, y_val = train_test_split(x, y, train_size=0.8, random_state=78)"
      ],
      "execution_count": 107,
      "outputs": []
    },
    {
      "cell_type": "code",
      "metadata": {
        "colab": {
          "base_uri": "https://localhost:8080/"
        },
        "id": "48JKekbnhsTs",
        "outputId": "790ec5d9-d74c-4b75-e0ce-1a90abc36bb8"
      },
      "source": [
        "from sklearn.metrics import accuracy_score\n",
        "from sklearn.linear_model import LogisticRegression\n",
        "\n",
        "# Logistic model\n",
        "logistic_model = LogisticRegression(max_iter=1000)\n",
        "\n",
        "#  Fit the data\n",
        "logistic_model.fit(x_train, y_train)\n",
        "\n",
        "# Calculate the accuracy\n",
        "predictions = logistic_model.predict(x_val)\n",
        "base_logistic_accuracy = accuracy_score(y_val, predictions)\n",
        "print('Accuracy of Logistic model: ', base_logistic_accuracy)"
      ],
      "execution_count": 113,
      "outputs": [
        {
          "output_type": "stream",
          "name": "stdout",
          "text": [
            "Accuracy of Logistic model:  0.8324022346368715\n"
          ]
        }
      ]
    },
    {
      "cell_type": "code",
      "metadata": {
        "colab": {
          "base_uri": "https://localhost:8080/",
          "height": 295
        },
        "id": "TRE7llFPjSex",
        "outputId": "3579b971-d6a0-466c-e40f-13dd95e01a60"
      },
      "source": [
        "import scikitplot as skplt\n",
        "import matplotlib.pyplot as plt\n",
        "\n",
        "# Print the roc curve\n",
        "predict_proba = logistic_model.predict_proba(x_val)\n",
        "skplt.metrics.plot_roc_curve(y_val, predict_proba)\n",
        "plt.show()"
      ],
      "execution_count": 109,
      "outputs": [
        {
          "output_type": "display_data",
          "data": {
            "image/png": "[encoded data removed]",
            "text/plain": [
              "<Figure size 432x288 with 1 Axes>"
            ]
          },
          "metadata": {
            "needs_background": "light"
          }
        }
      ]
    },
    {
      "cell_type": "code",
      "metadata": {
        "colab": {
          "base_uri": "https://localhost:8080/"
        },
        "id": "F7bkB_lSnoDe",
        "outputId": "da95fe56-0cfd-4133-ba78-c917f41adf0d"
      },
      "source": [
        "#  Print the AUC score\n",
        "from sklearn.metrics import roc_auc_score\n",
        "auc = roc_auc_score(y_val, predict_proba[::,1])\n",
        "print(\"AUC score of logistic model is: \", auc)"
      ],
      "execution_count": 114,
      "outputs": [
        {
          "output_type": "stream",
          "name": "stdout",
          "text": [
            "AUC score of logistic model is:  0.8914203612479475\n"
          ]
        }
      ]
    },
    {
      "cell_type": "code",
      "metadata": {
        "colab": {
          "base_uri": "https://localhost:8080/"
        },
        "id": "zstDnRO4L7-e",
        "outputId": "96840cb1-ca53-434e-9205-9cacc6c6d37e"
      },
      "source": [
        "from sklearn.model_selection import KFold\n",
        "from sklearn.model_selection import cross_val_score\n",
        "\n",
        "# Logistic model for kfold\n",
        "kfold_logistic_model = LogisticRegression(max_iter=1000)\n",
        "cv = KFold(n_splits=10, random_state=78, shuffle=True)\n",
        "scores = cross_val_score(kfold_logistic_model, x_train, y_train, scoring='accuracy', cv=cv)\n",
        "\n",
        "# Print performance\n",
        "from numpy import mean\n",
        "kfold_logistic_accuracy = mean(scores)\n",
        "print('Accuracy of logistic model with kfold: ', kfold_logistic_accuracy)"
      ],
      "execution_count": 115,
      "outputs": [
        {
          "output_type": "stream",
          "name": "stdout",
          "text": [
            "Accuracy of logistic model with kfold:  0.7781690140845071\n"
          ]
        }
      ]
    },
    {
      "cell_type": "code",
      "metadata": {
        "colab": {
          "base_uri": "https://localhost:8080/"
        },
        "id": "VEdyiuyUMFVI",
        "outputId": "188827ca-e835-4e68-9b49-d74af12894c1"
      },
      "source": [
        "#  Comparision of logistic model vs logistic model with kfold\n",
        "print('Logistic model vs logistic model with kfold')\n",
        "print(base_logistic_accuracy, ' vs ', kfold_logistic_accuracy)"
      ],
      "execution_count": 116,
      "outputs": [
        {
          "output_type": "stream",
          "name": "stdout",
          "text": [
            "Logistic model vs logistic model with kfold\n",
            "0.8324022346368715  vs  0.7781690140845071\n"
          ]
        }
      ]
    },
    {
      "cell_type": "code",
      "metadata": {
        "colab": {
          "base_uri": "https://localhost:8080/"
        },
        "id": "FSh0rQWqBrHT",
        "outputId": "f6dfdd23-4647-4a7b-fab8-94d9db3dd3db"
      },
      "source": [
        "# Logistic model\n",
        "grid_search_logistic_base_model = LogisticRegression()\n",
        "\n",
        "# Grid parameters\n",
        "grid_params = dict()\n",
        "grid_params['C'] = [0.01, 0.1, 1, 10, 100]\n",
        "grid_params['penalty'] = ['l2']\n",
        "grid_params['tol'] = [0.0001, 0.0002, 0.0003]\n",
        "grid_params['max_iter'] = [1000, 2000, 3000]\n",
        "grid_params['intercept_scaling'] = [1, 2, 3, 4]\n",
        "grid_params['solver'] = ['liblinear', 'lbfgs']\n",
        "\n",
        "grid_search_logistic_model = GridSearchCV(grid_search_logistic_base_model, grid_params, scoring='accuracy', cv=5)\n",
        "\n",
        "grid_search_logistic_model.fit(x_train, y_train)\n",
        "\n",
        "grid_search_best_parameters = grid_search_logistic_model.best_params_\n",
        "grid_search_best_score = grid_search_logistic_model.best_score_\n",
        "\n",
        "print('Parameters of best model for grid search: ', grid_search_best_parameters)\n",
        "print('Accuracy of grid search logistic model: ', grid_search_best_score)"
      ],
      "execution_count": 118,
      "outputs": [
        {
          "output_type": "stream",
          "name": "stdout",
          "text": [
            "Parameters of best model for grid search:  {'C': 0.1, 'intercept_scaling': 1, 'max_iter': 1000, 'penalty': 'l2', 'solver': 'liblinear', 'tol': 0.0001}\n",
            "Accuracy of grid search logistic model:  0.783689549886733\n"
          ]
        }
      ]
    },
    {
      "cell_type": "code",
      "metadata": {
        "colab": {
          "base_uri": "https://localhost:8080/"
        },
        "id": "vdaAM5HZFYDJ",
        "outputId": "3f74d094-7471-444a-97cb-8acaed094ecc"
      },
      "source": [
        "from sklearn.model_selection import RandomizedSearchCV\n",
        "from scipy.stats import uniform\n",
        "\n",
        "# Logistic model\n",
        "random_search_base_model = LogisticRegression()\n",
        "\n",
        "# Random Search Parameters\n",
        "rs_params = dict()\n",
        "rs_params['C'] = [uniform.rvs(loc=0, scale=2)]\n",
        "rs_params['penalty'] = ['l2', 'l1']\n",
        "rs_params['tol'] = [0.0001, 0.0002, 0.0003]\n",
        "rs_params['max_iter'] = [1000, 2000, 3000]\n",
        "rs_params['intercept_scaling'] = [1, 2, 3, 4]\n",
        "rs_params['solver'] = ['liblinear']\n",
        "\n",
        "rs_logistic_model = RandomizedSearchCV(random_search_base_model, rs_params, scoring='accuracy', cv=5)\n",
        "\n",
        "rs_logistic_model.fit(x_train, y_train)\n",
        "\n",
        "rs_best_parameters = rs_logistic_model.best_params_\n",
        "rs_best_score = rs_logistic_model.best_score_\n",
        "\n",
        "print('Parameters of best model for random search: ', rs_best_parameters)\n",
        "print('Accuracy of random search logistic model: ', rs_best_score)"
      ],
      "execution_count": 119,
      "outputs": [
        {
          "output_type": "stream",
          "name": "stdout",
          "text": [
            "Parameters of best model for random search:  {'tol': 0.0002, 'solver': 'liblinear', 'penalty': 'l2', 'max_iter': 3000, 'intercept_scaling': 3, 'C': 1.7606999721303296}\n",
            "Accuracy of random search logistic model:  0.7766571456712301\n"
          ]
        }
      ]
    },
    {
      "cell_type": "code",
      "metadata": {
        "colab": {
          "base_uri": "https://localhost:8080/"
        },
        "id": "RKLUjx7wNHlr",
        "outputId": "9a12e105-76ff-4254-ad0e-d53d06f21460"
      },
      "source": [
        "from sklearn.metrics import precision_score\n",
        "\n",
        "# Precision of base logistic model\n",
        "logistic_pred = logistic_model.predict(x_val)\n",
        "print('Precision of base logistic model', precision_score(y_val, logistic_pred))\n",
        "\n",
        "# Precision of grid search logistic model\n",
        "gs_logistic_pred = grid_search_logistic_model.predict(x_val)\n",
        "print('Precision of grid search logistic model', precision_score(y_val, gs_logistic_pred))\n",
        "\n",
        "# Precision of random search logistic model\n",
        "rs_logistic_pred = rs_logistic_model.predict(x_val)\n",
        "print('Precision of random search logistic model', precision_score(y_val, rs_logistic_pred))"
      ],
      "execution_count": 122,
      "outputs": [
        {
          "output_type": "stream",
          "name": "stdout",
          "text": [
            "Precision of base logistic model 0.7323943661971831\n",
            "Precision of grid search logistic model 0.746268656716418\n",
            "Precision of random search logistic model 0.7323943661971831\n"
          ]
        }
      ]
    },
    {
      "cell_type": "code",
      "metadata": {
        "colab": {
          "base_uri": "https://localhost:8080/"
        },
        "id": "qKxOwMBlhJ59",
        "outputId": "87d79b4d-5b0a-421d-8678-ae40277e87c6"
      },
      "source": [
        "from sklearn.metrics import recall_score\n",
        "\n",
        "# Recall of base logistic model\n",
        "print('Recall of base logistic model', recall_score(y_val, logistic_pred))\n",
        "\n",
        "# Recall of grid search logistic model\n",
        "print('Recall of grid search logistic model', recall_score(y_val, gs_logistic_pred))\n",
        "\n",
        "# Recall of random search logistic model\n",
        "print('Recall of random search logistic model', recall_score(y_val, rs_logistic_pred))"
      ],
      "execution_count": 123,
      "outputs": [
        {
          "output_type": "stream",
          "name": "stdout",
          "text": [
            "Recall of base logistic model 0.8253968253968254\n",
            "Recall of grid search logistic model 0.7936507936507936\n",
            "Recall of random search logistic model 0.8253968253968254\n"
          ]
        }
      ]
    },
    {
      "cell_type": "code",
      "metadata": {
        "colab": {
          "base_uri": "https://localhost:8080/"
        },
        "id": "EvAQPhEChc1g",
        "outputId": "211472c6-8765-428a-90a8-7b5ef1b62803"
      },
      "source": [
        "from sklearn.metrics import f1_score\n",
        "\n",
        "# F1 Score of base logistic model\n",
        "print('F1 Score of base logistic model', f1_score(y_val, logistic_pred))\n",
        "\n",
        "# F1 Score of grid search logistic model\n",
        "print('F1 Score of grid search logistic model', f1_score(y_val, gs_logistic_pred))\n",
        "\n",
        "# F1 Score of random search logistic model\n",
        "print('F1 Score of random search logistic model', f1_score(y_val, rs_logistic_pred))"
      ],
      "execution_count": 124,
      "outputs": [
        {
          "output_type": "stream",
          "name": "stdout",
          "text": [
            "F1 Score of base logistic model 0.7761194029850745\n",
            "F1 Score of grid search logistic model 0.7692307692307693\n",
            "F1 Score of random search logistic model 0.7761194029850745\n"
          ]
        }
      ]
    },
    {
      "cell_type": "code",
      "metadata": {
        "colab": {
          "base_uri": "https://localhost:8080/"
        },
        "id": "TiXhnVq3h1Rb",
        "outputId": "5ba568a2-b7fb-43ef-d159-0ff5260d27ff"
      },
      "source": [
        "# Micro Average Precision of base logistic model\n",
        "print('Micro Average Precision of base logistic model', precision_score(y_val, logistic_pred, average='micro'))\n",
        "\n",
        "# Micro Average Precision of grid search logistic model\n",
        "print('Micro Average Precision of grid search logistic model', precision_score(y_val, gs_logistic_pred, average='micro'))\n",
        "\n",
        "# Micro Average Precision of random search logistic model\n",
        "print('Micro Average Precision of random search logistic model', precision_score(y_val, rs_logistic_pred, average='micro'))\n",
        "\n",
        "# Micro Average Recall of base logistic model\n",
        "print('Micro Average Recall of base logistic model', recall_score(y_val, logistic_pred, average='micro'))\n",
        "\n",
        "# Micro Average Recall of grid search logistic model\n",
        "print('Micro Average Recall of grid search logistic model', recall_score(y_val, gs_logistic_pred, average='micro'))\n",
        "\n",
        "# Micro Average Recall of random search logistic model\n",
        "print('Micro Average Recall of random search logistic model', recall_score(y_val, rs_logistic_pred, average='micro'))\n",
        "\n",
        "# Micro Average F1 Score of base logistic model\n",
        "print('Micro Average F1 Score of base logistic model', f1_score(y_val, logistic_pred, average='micro'))\n",
        "\n",
        "# Micro Average F1 Score of grid search logistic model\n",
        "print('Micro Average F1 Score of grid search logistic model', f1_score(y_val, gs_logistic_pred, average='micro'))\n",
        "\n",
        "# Micro Average F1 Score of random search logistic model\n",
        "print('Micro Average F1 Score of random search logistic model', f1_score(y_val, rs_logistic_pred, average='micro'))"
      ],
      "execution_count": 127,
      "outputs": [
        {
          "output_type": "stream",
          "name": "stdout",
          "text": [
            "Micro Average Precision of base logistic model 0.8324022346368715\n",
            "Micro Average Precision of grid search logistic model 0.8324022346368715\n",
            "Micro Average Precision of random search logistic model 0.8324022346368715\n",
            "Micro Average Recall of base logistic model 0.8324022346368715\n",
            "Micro Average Recall of grid search logistic model 0.8324022346368715\n",
            "Micro Average Recall of random search logistic model 0.8324022346368715\n",
            "Micro Average F1 Score of base logistic model 0.8324022346368715\n",
            "Micro Average F1 Score of grid search logistic model 0.8324022346368715\n",
            "Micro Average F1 Score of random search logistic model 0.8324022346368715\n"
          ]
        }
      ]
    },
    {
      "cell_type": "code",
      "metadata": {
        "colab": {
          "base_uri": "https://localhost:8080/"
        },
        "id": "GsVleBbeiu6-",
        "outputId": "5b2b6f14-dec7-4009-ca52-64d1d63b2ccf"
      },
      "source": [
        "# Macro Average Precision of base logistic model\n",
        "print('Macro Average Precision of base logistic model', precision_score(y_val, logistic_pred, average='macro'))\n",
        "\n",
        "# Macro Average Precision of grid search logistic model\n",
        "print('Macro Average Precision of grid search logistic model', precision_score(y_val, gs_logistic_pred, average='macro'))\n",
        "\n",
        "# Macro Average Precision of random search logistic model\n",
        "print('Macro Average Precision of random search logistic model', precision_score(y_val, rs_logistic_pred, average='macro'))\n",
        "\n",
        "# Macro Average Recall of base logistic model\n",
        "print('Macro Average Recall of base logistic model', recall_score(y_val, logistic_pred, average='macro'))\n",
        "\n",
        "# Macro Average Recall of grid search logistic model\n",
        "print('Macro Average Recall of grid search logistic model', recall_score(y_val, gs_logistic_pred, average='macro'))\n",
        "\n",
        "# Macro Average Recall of random search logistic model\n",
        "print('Macro Average Recall of random search logistic model', recall_score(y_val, rs_logistic_pred, average='macro'))\n",
        "\n",
        "# Macro Average F1 Score of base logistic model\n",
        "print('Macro Average F1 Score of base logistic model', f1_score(y_val, logistic_pred, average='macro'))\n",
        "\n",
        "# Macro Average F1 Score of grid search logistic model\n",
        "print('Macro Average F1 Score of grid search logistic model', f1_score(y_val, gs_logistic_pred, average='macro'))\n",
        "\n",
        "# Macro Average F1 Score of random search logistic model\n",
        "print('Macro Average F1 Score of random search logistic model', f1_score(y_val, rs_logistic_pred, average='macro'))"
      ],
      "execution_count": 128,
      "outputs": [
        {
          "output_type": "stream",
          "name": "stdout",
          "text": [
            "Macro Average Precision of base logistic model 0.8152712571726657\n",
            "Macro Average Precision of grid search logistic model 0.8150986140724947\n",
            "Macro Average Precision of random search logistic model 0.8152712571726657\n",
            "Macro Average Recall of base logistic model 0.8308018609742747\n",
            "Macro Average Recall of grid search logistic model 0.8235495347564312\n",
            "Macro Average Recall of random search logistic model 0.8308018609742747\n",
            "Macro Average F1 Score of base logistic model 0.8210954157782515\n",
            "Macro Average F1 Score of grid search logistic model 0.8188259109311742\n",
            "Macro Average F1 Score of random search logistic model 0.8210954157782515\n"
          ]
        }
      ]
    },
    {
      "cell_type": "code",
      "metadata": {
        "colab": {
          "base_uri": "https://localhost:8080/"
        },
        "id": "AHx4d28Giweq",
        "outputId": "7ee6f15f-4685-467f-a9e5-d4042853cbb0"
      },
      "source": [
        "# Weighted Average Precision of base logistic model\n",
        "print('Weighted Average Precision of base logistic model', precision_score(y_val, logistic_pred, average='weighted'))\n",
        "\n",
        "# Weighted Average Precision of grid search logistic model\n",
        "print('Weighted Average Precision of grid search logistic model', precision_score(y_val, gs_logistic_pred, average='weighted'))\n",
        "\n",
        "# Weighted Average Precision of random search logistic model\n",
        "print('Weighted Average Precision of random search logistic model', precision_score(y_val, rs_logistic_pred, average='weighted'))\n",
        "\n",
        "# Weighted Average Recall of base logistic model\n",
        "print('Weighted Average Recall of base logistic model', recall_score(y_val, logistic_pred, average='weighted'))\n",
        "\n",
        "# Weighted Average Recall of grid search logistic model\n",
        "print('Weighted Average Recall of grid search logistic model', recall_score(y_val, gs_logistic_pred, average='weighted'))\n",
        "\n",
        "# Weighted Average Recall of random search logistic model\n",
        "print('Weighted Average Recall of random search logistic model', recall_score(y_val, rs_logistic_pred, average='weighted'))\n",
        "\n",
        "# Weighted Average F1 Score of base logistic model\n",
        "print('Weighted Average F1 Score of base logistic model', f1_score(y_val, logistic_pred, average='weighted'))\n",
        "\n",
        "# Weighted Average F1 Score of grid search logistic model\n",
        "print('Weighted Average F1 Score of grid search logistic model', f1_score(y_val, gs_logistic_pred, average='weighted'))\n",
        "\n",
        "# Weighted Average F1 Score of random search logistic model\n",
        "print('Weighted Average F1 Score of random search logistic model', f1_score(y_val, rs_logistic_pred, average='weighted'))"
      ],
      "execution_count": 129,
      "outputs": [
        {
          "output_type": "stream",
          "name": "stdout",
          "text": [
            "Weighted Average Precision of base logistic model 0.8398102248916632\n",
            "Weighted Average Precision of grid search logistic model 0.8354784338483162\n",
            "Weighted Average Precision of random search logistic model 0.8398102248916632\n",
            "Weighted Average Recall of base logistic model 0.8324022346368715\n",
            "Weighted Average Recall of grid search logistic model 0.8324022346368715\n",
            "Weighted Average Recall of random search logistic model 0.8324022346368715\n",
            "Weighted Average F1 Score of base logistic model 0.8344123357672929\n",
            "Weighted Average F1 Score of grid search logistic model 0.8335105059597856\n",
            "Weighted Average F1 Score of random search logistic model 0.8344123357672929\n"
          ]
        }
      ]
    }
  ]
}