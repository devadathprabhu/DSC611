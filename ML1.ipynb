{
  "nbformat": 4,
  "nbformat_minor": 0,
  "metadata": {
    "colab": {
      "name": "ML1.ipynb",
      "provenance": [],
      "collapsed_sections": [],
      "authorship_tag": "ABX9TyNRsOuPbHhfU8ynwLs4W6c3",
      "include_colab_link": true
    },
    "kernelspec": {
      "name": "python3",
      "display_name": "Python 3"
    },
    "language_info": {
      "name": "python"
    }
  },
  "cells": [
    {
      "cell_type": "markdown",
      "metadata": {
        "id": "view-in-github",
        "colab_type": "text"
      },
      "source": [
        "<a href=\"https://colab.research.google.com/github/devadathprabhu/DSC611/blob/main/ML1.ipynb\" target=\"_parent\"><img src=\"https://colab.research.google.com/assets/colab-badge.svg\" alt=\"Open In Colab\"/></a>"
      ]
    },
    {
      "cell_type": "markdown",
      "metadata": {
        "id": "4hh0-Brk_qs8"
      },
      "source": [
        "\n",
        "1 Given 2 numpy arrays of same dimension, compute the element-wise sum of the arrays"
      ]
    },
    {
      "cell_type": "code",
      "metadata": {
        "colab": {
          "base_uri": "https://localhost:8080/"
        },
        "id": "9_BO8AQi40nV",
        "outputId": "310d0944-84a6-42db-a949-d812bf9f4416"
      },
      "source": [
        "import numpy as np\n",
        "\n",
        "list1 = [1,2,3]\n",
        "array1 = np.array(list1)\n",
        "list2 = [10, 11, 12]\n",
        "array2 = np.array(list2)\n",
        "array1+array2"
      ],
      "execution_count": 8,
      "outputs": [
        {
          "output_type": "execute_result",
          "data": {
            "text/plain": [
              "array([11, 13, 15])"
            ]
          },
          "metadata": {
            "tags": []
          },
          "execution_count": 8
        }
      ]
    },
    {
      "cell_type": "markdown",
      "metadata": {
        "id": "33s7EvgM85k1"
      },
      "source": [
        "2 Compute the product of a scalar multiplied by a numpy array."
      ]
    },
    {
      "cell_type": "code",
      "metadata": {
        "id": "n15MV2Y-_-dd"
      },
      "source": [
        "k = 10\n",
        "k*array1"
      ],
      "execution_count": null,
      "outputs": []
    },
    {
      "cell_type": "markdown",
      "metadata": {
        "id": "pWzDoXEIACD8"
      },
      "source": [
        "3 Create an identity matrix of dimension n"
      ]
    },
    {
      "cell_type": "code",
      "metadata": {
        "colab": {
          "base_uri": "https://localhost:8080/"
        },
        "id": "ytXFKViM83EU",
        "outputId": "6c616fa9-6f16-4f3e-ce90-809906eace3c"
      },
      "source": [
        "np.eye(4)"
      ],
      "execution_count": 10,
      "outputs": [
        {
          "output_type": "execute_result",
          "data": {
            "text/plain": [
              "array([[1., 0., 0., 0.],\n",
              "       [0., 1., 0., 0.],\n",
              "       [0., 0., 1., 0.],\n",
              "       [0., 0., 0., 1.]])"
            ]
          },
          "metadata": {
            "tags": []
          },
          "execution_count": 10
        }
      ]
    },
    {
      "cell_type": "markdown",
      "metadata": {
        "id": "_pltN3iBAGsi"
      },
      "source": [
        "4 Transform a 3-D array to a 1-D array"
      ]
    },
    {
      "cell_type": "code",
      "metadata": {
        "colab": {
          "base_uri": "https://localhost:8080/"
        },
        "id": "Qbt38wiI9XvG",
        "outputId": "d08bb5ef-5a1e-4b86-a007-0a4bdd463a72"
      },
      "source": [
        "array3D = np.array([[(1, 2, 3), (4, 5, 6)],[(1, 2, 3), (4, 5, 6)]])\n",
        "array3D\n",
        "array3D.shape\n",
        "array3D.reshape(-1)"
      ],
      "execution_count": 16,
      "outputs": [
        {
          "output_type": "execute_result",
          "data": {
            "text/plain": [
              "array([1, 2, 3, 4, 5, 6, 1, 2, 3, 4, 5, 6])"
            ]
          },
          "metadata": {
            "tags": []
          },
          "execution_count": 16
        }
      ]
    },
    {
      "cell_type": "markdown",
      "metadata": {
        "id": "lwIfF1MJBcfj"
      },
      "source": [
        "5 Convert the data type of all float elements to integer."
      ]
    },
    {
      "cell_type": "code",
      "metadata": {
        "colab": {
          "base_uri": "https://localhost:8080/"
        },
        "id": "Lj5sThQ99XMe",
        "outputId": "8d7c0766-4bb9-4459-b5be-ca8bee1f5f27"
      },
      "source": [
        "floatarray = np.array([1.1, 2.5, 3, 4.0])\n",
        "floatarray\n",
        "intarray = floatarray.astype(int)\n",
        "intarray"
      ],
      "execution_count": 22,
      "outputs": [
        {
          "output_type": "execute_result",
          "data": {
            "text/plain": [
              "array([1, 2, 3, 4])"
            ]
          },
          "metadata": {
            "tags": []
          },
          "execution_count": 22
        }
      ]
    },
    {
      "cell_type": "markdown",
      "metadata": {
        "id": "iUcEcpjnCLRD"
      },
      "source": [
        "6 Print the reverse of a vector\n"
      ]
    },
    {
      "cell_type": "code",
      "metadata": {
        "colab": {
          "base_uri": "https://localhost:8080/"
        },
        "id": "E8VQ0UMuCMaA",
        "outputId": "d2b1cc90-74b6-4994-e4f4-3836dbaaf76b"
      },
      "source": [
        "intarray\n",
        "reversedarray = intarray[::-1]\n",
        "reversedarray"
      ],
      "execution_count": 25,
      "outputs": [
        {
          "output_type": "execute_result",
          "data": {
            "text/plain": [
              "array([4, 3, 2, 1])"
            ]
          },
          "metadata": {
            "tags": []
          },
          "execution_count": 25
        }
      ]
    },
    {
      "cell_type": "markdown",
      "metadata": {
        "id": "vHr1txWTC_ke"
      },
      "source": [
        "7 Initialize a vector\n",
        "i. with values ranging from 20 to 50\n",
        "ii. with random values and find the maximum and minimum values. Also\n",
        "compute the mean.\n",
        "iii. with random values between 20 and 50."
      ]
    },
    {
      "cell_type": "markdown",
      "metadata": {
        "id": "ctJUQv34DZDH"
      },
      "source": [
        "8 Create a numpy vector\n",
        "i. with 5 elements between 20 and 100 (evenly spaced) \n",
        "ii. with elements between 20 and 100 (evenly spaced with step of 5)"
      ]
    },
    {
      "cell_type": "markdown",
      "metadata": {
        "id": "44kWuxmlDs_o"
      },
      "source": [
        "9 Perform the following stacking operations on a numpy array:\n",
        "i. Horizontal stacking\n",
        "ii. Vertical stacking"
      ]
    },
    {
      "cell_type": "code",
      "metadata": {
        "colab": {
          "base_uri": "https://localhost:8080/"
        },
        "id": "Fx3Xkmr3DWNN",
        "outputId": "c5b2178d-f0d8-461c-ca0c-ff7c0d1f802f"
      },
      "source": [
        "arrayHStack = np.hstack((intarray, reversedarray)) # should have same number of rows\n",
        "arrayHStack"
      ],
      "execution_count": 32,
      "outputs": [
        {
          "output_type": "execute_result",
          "data": {
            "text/plain": [
              "array([1, 2, 3, 4, 4, 3, 2, 1])"
            ]
          },
          "metadata": {
            "tags": []
          },
          "execution_count": 32
        }
      ]
    },
    {
      "cell_type": "code",
      "metadata": {
        "colab": {
          "base_uri": "https://localhost:8080/"
        },
        "id": "3YhQpi98EULf",
        "outputId": "246f93c7-af13-4910-bf04-4681f1d2021c"
      },
      "source": [
        "arrayVStack = np.vstack((intarray, reversedarray)) # should have same number of columns\n",
        "arrayVStack"
      ],
      "execution_count": 33,
      "outputs": [
        {
          "output_type": "execute_result",
          "data": {
            "text/plain": [
              "array([[1, 2, 3, 4],\n",
              "       [4, 3, 2, 1]])"
            ]
          },
          "metadata": {
            "tags": []
          },
          "execution_count": 33
        }
      ]
    },
    {
      "cell_type": "markdown",
      "metadata": {
        "id": "EipzBoM2EjZI"
      },
      "source": [
        "10 Compute the product of two 2D numpy arrays."
      ]
    },
    {
      "cell_type": "code",
      "metadata": {
        "colab": {
          "base_uri": "https://localhost:8080/"
        },
        "id": "xi8eShfBEmq9",
        "outputId": "c25af136-6284-4239-ad39-019c98ee5b81"
      },
      "source": [
        "arrayVStack * arrayVStack"
      ],
      "execution_count": 35,
      "outputs": [
        {
          "output_type": "execute_result",
          "data": {
            "text/plain": [
              "array([[ 1,  4,  9, 16],\n",
              "       [16,  9,  4,  1]])"
            ]
          },
          "metadata": {
            "tags": []
          },
          "execution_count": 35
        }
      ]
    },
    {
      "cell_type": "markdown",
      "metadata": {
        "id": "rxvwLoD6E5CF"
      },
      "source": [
        "11 Determine the transpose of a numpy array."
      ]
    },
    {
      "cell_type": "code",
      "metadata": {
        "colab": {
          "base_uri": "https://localhost:8080/"
        },
        "id": "p3ghFft3E4rv",
        "outputId": "ab421cb5-52e6-469a-887a-661d585c1cfe"
      },
      "source": [
        "arrayVStack.transpose()"
      ],
      "execution_count": 38,
      "outputs": [
        {
          "output_type": "execute_result",
          "data": {
            "text/plain": [
              "array([[1, 4],\n",
              "       [2, 3],\n",
              "       [3, 2],\n",
              "       [4, 1]])"
            ]
          },
          "metadata": {
            "tags": []
          },
          "execution_count": 38
        }
      ]
    },
    {
      "cell_type": "markdown",
      "metadata": {
        "id": "ohIKDCgUE6yw"
      },
      "source": [
        "12 Display\n",
        "i. all odd elements from a numpy array.\n",
        "ii. indices of common elements in 2 arrays.."
      ]
    },
    {
      "cell_type": "code",
      "metadata": {
        "colab": {
          "base_uri": "https://localhost:8080/"
        },
        "id": "jb2WRo1pE7rV",
        "outputId": "74cf1fdd-80b4-498f-83b7-438fa8dff949"
      },
      "source": [
        "arrayVStack[arrayVStack%2==1]"
      ],
      "execution_count": 40,
      "outputs": [
        {
          "output_type": "execute_result",
          "data": {
            "text/plain": [
              "array([1, 3, 3, 1])"
            ]
          },
          "metadata": {
            "tags": []
          },
          "execution_count": 40
        }
      ]
    },
    {
      "cell_type": "code",
      "metadata": {
        "colab": {
          "base_uri": "https://localhost:8080/"
        },
        "id": "M7B5JKroIMRr",
        "outputId": "dac10036-cb42-4378-8999-01ad2e23adef"
      },
      "source": [
        "array1 = np.array([1,2,3,4])\n",
        "array2 = np.array([2,4,6,8])\n",
        "np.nonzero(np.in1d(array1, array2))[0]"
      ],
      "execution_count": 44,
      "outputs": [
        {
          "output_type": "execute_result",
          "data": {
            "text/plain": [
              "array([1, 3])"
            ]
          },
          "metadata": {
            "tags": []
          },
          "execution_count": 44
        }
      ]
    }
  ]
}